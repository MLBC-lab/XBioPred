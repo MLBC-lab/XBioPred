{
  "cells": [
    {
      "cell_type": "markdown",
      "metadata": {
        "id": "KgNgU-LUwqqt"
      },
      "source": [
        "# Importing Packages"
      ]
    },
    {
      "cell_type": "code",
      "execution_count": 1,
      "metadata": {
        "id": "5zrn8DHylezi"
      },
      "outputs": [],
      "source": [
        "import pandas as pd\n",
        "import numpy as np\n",
        "import matplotlib.pyplot as plt\n",
        "import scienceplots\n",
        "\n",
        "\n",
        "import sklearn\n",
        "from sklearn.model_selection import *\n",
        "from sklearn.metrics import *\n",
        "from sklearn.preprocessing import *\n",
        "from sklearn.pipeline import Pipeline\n",
        "from sklearn.compose import ColumnTransformer\n",
        "\n",
        "from scipy import stats\n",
        "\n",
        "import tensorflow as tf\n",
        "import keras_tuner\n",
        "\n",
        "\n",
        "import missingno\n",
        "import warnings\n",
        "import gc"
      ]
    },
    {
      "cell_type": "markdown",
      "metadata": {
        "id": "Yi6nRB-qws86"
      },
      "source": [
        "# Plotting Configuration"
      ]
    },
    {
      "cell_type": "code",
      "execution_count": 2,
      "metadata": {
        "id": "UJ-a40pAgyGI"
      },
      "outputs": [],
      "source": [
        "plt.rcdefaults()\n",
        "mpl_global_config = {\n",
        "    'figure.figsize': (7, 7),\n",
        "    'figure.dpi': 1000,\n",
        "    'font.size': 16,\n",
        "    'axes.labelsize': 14,\n",
        "    'axes.titlesize': 14,\n",
        "    'xtick.labelsize': 12,\n",
        "    'ytick.labelsize': 12,\n",
        "    'legend.fontsize': 8,\n",
        "    'lines.linewidth': 2,\n",
        "    'lines.markersize': 3,\n",
        "    'grid.linewidth': 0.75,\n",
        "    'savefig.dpi': 1000,\n",
        "    'savefig.transparent': False,\n",
        "    'savefig.bbox': 'tight',\n",
        "    'pdf.compression': 9,\n",
        "    'axes.axisbelow': True\n",
        "}\n",
        "plt.rcParams.update(mpl_global_config)\n",
        "plt.style.use(['science', 'nature', 'high-contrast', \"no-latex\"])\n",
        "\n",
        "\n",
        "colors = {\n",
        "    \"yellow\": \"#DDAA33\",\n",
        "    \"red\": \"#BB5566\",\n",
        "    \"blue\": \"#004488\",\n",
        "    \"black\": \"#000000\",\n",
        "    \"white\": \"#FFFFFF\"\n",
        "}"
      ]
    },
    {
      "cell_type": "markdown",
      "metadata": {
        "id": "6V0DgZMo67oT"
      },
      "source": [
        "# Global Configuration Setting Controling Randomness, Trials, etc"
      ]
    },
    {
      "cell_type": "code",
      "execution_count": 3,
      "metadata": {
        "id": "Jjl2tp-cgypS"
      },
      "outputs": [],
      "source": [
        "sklearn.set_config(transform_output=\"pandas\")\n",
        "np.seterr(under='ignore')\n",
        "warnings.filterwarnings('ignore')\n",
        "SEED = 42\n",
        "tf.keras.utils.set_random_seed(SEED)\n",
        "n_trials = 50"
      ]
    },
    {
      "cell_type": "markdown",
      "metadata": {
        "id": "-wfcbe9Fc1qT"
      },
      "source": [
        "# Read the Original (Raw) Data"
      ]
    },
    {
      "cell_type": "code",
      "execution_count": null,
      "metadata": {},
      "outputs": [],
      "source": [
        "# reading the dataset\n",
        "\n",
        "Originaldf = pd.read_csv(\"OriginalData.csv\",\n",
        "                 dayfirst=True,\n",
        "                 parse_dates=True,\n",
        "                 index_col=\"Date\")\n",
        "\n",
        "\n",
        "TARGET = \"Total Biogas Flowrate\"\n",
        "print(f\"shape after reading data: {Originaldf.shape}\")"
      ]
    },
    {
      "cell_type": "code",
      "execution_count": null,
      "metadata": {},
      "outputs": [],
      "source": [
        "Originaldf.head()"
      ]
    },
    {
      "cell_type": "code",
      "execution_count": null,
      "metadata": {},
      "outputs": [],
      "source": [
        "Originaldf.columns"
      ]
    },
    {
      "cell_type": "markdown",
      "metadata": {},
      "source": [
        "# Missing Values"
      ]
    },
    {
      "cell_type": "code",
      "execution_count": null,
      "metadata": {},
      "outputs": [],
      "source": [
        "missing_values = Originaldf.isnull().sum()\n",
        "missing_values.plot(kind='bar', figsize=(8, 6))\n",
        "\n",
        "# Set font size for title and labels\n",
        "plt.title('Missing Values by Column', fontsize=16)\n",
        "plt.xlabel('Column', fontsize=10)\n",
        "plt.ylabel('Number of Missing Values', fontsize=14)\n",
        "\n",
        "# Increase font size for x-ticks and y-ticks\n",
        "plt.xticks(rotation=90, fontsize=12)\n",
        "plt.yticks(fontsize=12)\n",
        "\n",
        "# Save the plot as an SVG file\n",
        "plt.savefig(\"Missing Data.svg\", format='svg', dpi=1000, bbox_inches='tight')\n",
        "\n",
        "# Adjust layout and display the plot\n",
        "plt.tight_layout()\n",
        "plt.show()"
      ]
    },
    {
      "cell_type": "markdown",
      "metadata": {},
      "source": [
        "# Shapiro-Wilk and Kolmogorov-Smirnov Tests"
      ]
    },
    {
      "cell_type": "code",
      "execution_count": null,
      "metadata": {},
      "outputs": [],
      "source": [
        "# Create a list to store the results\n",
        "results = []\n",
        "\n",
        "# Iterate through each column in the DataFrame\n",
        "for column in Originaldf.columns:\n",
        "    # Drop NaN values for analysis\n",
        "    data = Originaldf[column].dropna()\n",
        "    \n",
        "    # Skip if there's not enough data\n",
        "    if len(data) < 3:\n",
        "        results.append([column, None, None, None, None, \"Not enough data\"])\n",
        "        continue\n",
        "\n",
        "    # Calculate the mean value for the current column\n",
        "    mean_value = data.mean()\n",
        "\n",
        "    # 3. Statistical Tests\n",
        "    # Shapiro-Wilk Test\n",
        "    shapiro_stat, shapiro_p = stats.shapiro(data)\n",
        "\n",
        "    # Kolmogorov-Smirnov Test\n",
        "    ks_stat, ks_p = stats.kstest(data, 'norm', args=(mean_value, np.std(data)))\n",
        "\n",
        "    # Interpretation of p-values\n",
        "    alpha = 0.05\n",
        "    shapiro_result = \"data distribution is not Gaussian\" if shapiro_p < alpha else \"data distribution may be Gaussian\"\n",
        "    ks_result = \"data distribution is not Gaussian\" if ks_p < alpha else \"data distribution is Gaussian\"\n",
        "\n",
        "    # Append results to the list\n",
        "    results.append([column, shapiro_stat, shapiro_p, ks_stat, ks_p, shapiro_result, ks_result])\n",
        "\n",
        "# Create a DataFrame from the results\n",
        "results_df = pd.DataFrame(results, columns=['Column', 'Shapiro Statistic', 'Shapiro p-value', 'K-S Statistic', 'K-S p-value', 'Shapiro Result', 'K-S Result'])\n",
        "\n",
        "# Save the results to a CSV file\n",
        "results_df.to_csv('statistical_tests_results.csv', index=False)\n",
        "\n",
        "print(\"Results saved to statistical_tests_results.csv\")"
      ]
    },
    {
      "cell_type": "markdown",
      "metadata": {},
      "source": [
        "# Visualize Original Data"
      ]
    },
    {
      "cell_type": "code",
      "execution_count": null,
      "metadata": {},
      "outputs": [],
      "source": [
        "# Visualize Original Data \n",
        "num_variables = len(Originaldf.columns)  # Number of variables to plot\n",
        "num_rows = (num_variables + 1) // 2  # Calculate the number of rows needed\n",
        "\n",
        "fig, axes = plt.subplots(num_rows, 2, figsize=(13, 3 * num_rows))  # Adjust the size as needed, now with 2 columns\n",
        "\n",
        "for i, column in enumerate(Originaldf.columns):\n",
        "    ax = axes[i // 2, i % 2]  # Determine the correct subplot\n",
        "    ax.plot(Originaldf[column])\n",
        "    ax.set_title(column)\n",
        "    ax.set_xlabel('Date')\n",
        "    ax.set_ylabel(column)\n",
        "    ax.tick_params(axis='x', rotation=45)  # Rotate x-axis labels by 45 degrees\n",
        "\n",
        "# Adjust spacing between plots\n",
        "plt.subplots_adjust(hspace=0.5)  # Increase vertical space between rows\n",
        "plt.savefig(\"Original Data.svg\", format='svg', dpi=1000, bbox_inches='tight')\n",
        "plt.tight_layout()\n",
        "plt.show()"
      ]
    },
    {
      "cell_type": "markdown",
      "metadata": {},
      "source": [
        "# Spliting Dataset for Preprocessing"
      ]
    },
    {
      "cell_type": "code",
      "execution_count": null,
      "metadata": {},
      "outputs": [],
      "source": [
        "Originaldf.columns"
      ]
    },
    {
      "cell_type": "code",
      "execution_count": 11,
      "metadata": {},
      "outputs": [],
      "source": [
        "Originaldf = Originaldf.dropna(subset=[\"Total Biogas Flowrate (m3/d)\"])\n"
      ]
    },
    {
      "cell_type": "code",
      "execution_count": null,
      "metadata": {},
      "outputs": [],
      "source": [
        "Originaldf.shape"
      ]
    },
    {
      "cell_type": "code",
      "execution_count": null,
      "metadata": {},
      "outputs": [],
      "source": [
        "# Drop Highly Correlated Features regarding Heatmaps\n",
        "X = Originaldf.drop(columns=[\"Total Biogas Flowrate (m3/d)\"])\n",
        "\n",
        "y = Originaldf.pop(\"Total Biogas Flowrate (m3/d)\")\n",
        "print(f\"dataframe shape: {Originaldf.shape}\\n\"\\\n",
        "      f\"features shape: {X.shape}\\n\"\\\n",
        "      f\"target shape: {y.shape}\")"
      ]
    },
    {
      "cell_type": "code",
      "execution_count": null,
      "metadata": {},
      "outputs": [],
      "source": [
        "# seperating train samples from test samples\n",
        "X_train, X_test, y_train, y_test = train_test_split(\n",
        "    X,\n",
        "    y,\n",
        "    train_size=0.70,\n",
        "    random_state=SEED\n",
        ")\n",
        "print(X_train.shape, X_test.shape, y_train.shape, y_test.shape)\n",
        "\n",
        "print(X_train.shape, X_test.shape, y_train.shape, y_test.shape)"
      ]
    },
    {
      "cell_type": "code",
      "execution_count": 15,
      "metadata": {},
      "outputs": [],
      "source": [
        "X_train.to_csv(\"X_train.csv\")\n",
        "X_test.to_csv(\"X_test.csv\")\n",
        "y.to_csv(\"y.csv\")\n"
      ]
    }
  ],
  "metadata": {
    "colab": {
      "gpuType": "T4",
      "provenance": []
    },
    "kernelspec": {
      "display_name": "Python 3",
      "name": "python3"
    },
    "language_info": {
      "codemirror_mode": {
        "name": "ipython",
        "version": 3
      },
      "file_extension": ".py",
      "mimetype": "text/x-python",
      "name": "python",
      "nbconvert_exporter": "python",
      "pygments_lexer": "ipython3",
      "version": "3.11.9"
    }
  },
  "nbformat": 4,
  "nbformat_minor": 0
}
