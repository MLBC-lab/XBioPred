{
  "cells": [
    {
      "cell_type": "markdown",
      "metadata": {
        "id": "KgNgU-LUwqqt"
      },
      "source": [
        "# Importing Packages"
      ]
    },
    {
      "cell_type": "code",
      "execution_count": null,
      "metadata": {
        "id": "5zrn8DHylezi"
      },
      "outputs": [],
      "source": [
        "import pandas as pd\n",
        "import numpy as np\n",
        "import matplotlib.pyplot as plt\n",
        "import scienceplots\n",
        "\n",
        "\n",
        "import sklearn\n",
        "from sklearn.model_selection import *\n",
        "from sklearn.metrics import *\n",
        "from sklearn.preprocessing import *\n",
        "from sklearn.pipeline import Pipeline\n",
        "from sklearn.compose import ColumnTransformer\n",
        "\n",
        "from scipy import stats\n",
        "\n",
        "import tensorflow as tf\n",
        "import keras_tuner\n",
        "\n",
        "import optuna\n",
        "\n",
        "import missingno\n",
        "import warnings\n",
        "import gc"
      ]
    },
    {
      "cell_type": "markdown",
      "metadata": {
        "id": "Yi6nRB-qws86"
      },
      "source": [
        "# Plotting Configuration"
      ]
    },
    {
      "cell_type": "code",
      "execution_count": 2,
      "metadata": {
        "id": "UJ-a40pAgyGI"
      },
      "outputs": [],
      "source": [
        "plt.rcdefaults()\n",
        "mpl_global_config = {\n",
        "    'figure.figsize': (7, 7),\n",
        "    'figure.dpi': 1000,\n",
        "    'font.size': 16,\n",
        "    'axes.labelsize': 14,\n",
        "    'axes.titlesize': 14,\n",
        "    'xtick.labelsize': 12,\n",
        "    'ytick.labelsize': 12,\n",
        "    'legend.fontsize': 8,\n",
        "    'lines.linewidth': 2,\n",
        "    'lines.markersize': 3,\n",
        "    'grid.linewidth': 0.75,\n",
        "    'savefig.dpi': 1000,\n",
        "    'savefig.transparent': False,\n",
        "    'savefig.bbox': 'tight',\n",
        "    'pdf.compression': 9,\n",
        "    'axes.axisbelow': True\n",
        "}\n",
        "plt.rcParams.update(mpl_global_config)\n",
        "plt.style.use(['science', 'nature', 'high-contrast', \"no-latex\"])\n",
        "\n",
        "\n",
        "colors = {\n",
        "    \"yellow\": \"#DDAA33\",\n",
        "    \"red\": \"#BB5566\",\n",
        "    \"blue\": \"#004488\",\n",
        "    \"black\": \"#000000\",\n",
        "    \"white\": \"#FFFFFF\"\n",
        "}"
      ]
    },
    {
      "cell_type": "markdown",
      "metadata": {
        "id": "6V0DgZMo67oT"
      },
      "source": [
        "# Global Configuration Setting Controling Randomness, Trials, etc"
      ]
    },
    {
      "cell_type": "code",
      "execution_count": 3,
      "metadata": {
        "id": "Jjl2tp-cgypS"
      },
      "outputs": [],
      "source": [
        "sklearn.set_config(transform_output=\"pandas\")\n",
        "np.seterr(under='ignore')\n",
        "warnings.filterwarnings('ignore')\n",
        "SEED = 42\n",
        "tf.keras.utils.set_random_seed(SEED)\n",
        "n_trials = 50"
      ]
    },
    {
      "cell_type": "markdown",
      "metadata": {
        "id": "-wfcbe9Fc1qT"
      },
      "source": [
        "# Read the Preprocessed Data"
      ]
    },
    {
      "cell_type": "code",
      "execution_count": 4,
      "metadata": {},
      "outputs": [],
      "source": [
        "# reading the dataset\n",
        "df = pd.read_csv(\"df.csv\",\n",
        "                 dayfirst=True,\n",
        "                 parse_dates=True,\n",
        "                 index_col=\"Date\")"
      ]
    },
    {
      "cell_type": "code",
      "execution_count": null,
      "metadata": {},
      "outputs": [],
      "source": [
        "df.columns"
      ]
    },
    {
      "cell_type": "code",
      "execution_count": null,
      "metadata": {},
      "outputs": [],
      "source": [
        "df.shape"
      ]
    },
    {
      "cell_type": "code",
      "execution_count": null,
      "metadata": {},
      "outputs": [],
      "source": [
        "df.describe()"
      ]
    },
    {
      "cell_type": "markdown",
      "metadata": {
        "id": "X9-n2vk37_t9"
      },
      "source": [
        "# Separating X and y"
      ]
    },
    {
      "cell_type": "code",
      "execution_count": null,
      "metadata": {
        "id": "3FtU7ylyFZNz"
      },
      "outputs": [],
      "source": [
        "X = df.drop(columns=[\"Total Biogas Flowrate (m3/d)\"])\n",
        "y = df.pop(\"Total Biogas Flowrate (m3/d)\")\n",
        "print(f\"dataframe shape: {df.shape}\\n\"\\\n",
        "      f\"features shape: {X.shape}\\n\"\\\n",
        "      f\"target shape: {y.shape}\")"
      ]
    },
    {
      "cell_type": "markdown",
      "metadata": {
        "id": "ANHlCMUj8CWx"
      },
      "source": [
        "# Train and Test Split and Normalization"
      ]
    },
    {
      "cell_type": "code",
      "execution_count": null,
      "metadata": {
        "colab": {
          "base_uri": "https://localhost:8080/"
        },
        "id": "sMKHsh6VFzOR",
        "outputId": "e5a746f6-fba9-40b5-88b3-be5405b357b0"
      },
      "outputs": [],
      "source": [
        "# seperating train samples from test samples\n",
        "X_train, X_test, y_train, y_test = train_test_split(\n",
        "    X,\n",
        "    y,\n",
        "    train_size=0.70,\n",
        "    random_state=SEED\n",
        ")\n",
        "print(X_train.shape, X_test.shape, y_train.shape, y_test.shape)\n",
        "\n",
        "print(X_train.shape, X_test.shape, y_train.shape, y_test.shape)"
      ]
    },
    {
      "cell_type": "code",
      "execution_count": 10,
      "metadata": {
        "id": "2Dca_EW9Fz-_"
      },
      "outputs": [],
      "source": [
        "# If features are normally distributed, use StandardScaler.\n",
        "# If features are not normally distributed or you want to ensure all features are within a specific range, use MinMaxScaler.\n",
        "\n",
        "\n",
        "scaler = MinMaxScaler()\n",
        "\n",
        "# Fit the scaler on the training data\n",
        "feature_scaling =scaler.fit(X_train)\n",
        "X_train_scaled = feature_scaling.transform(X_train)\n",
        "X_test_scaled = feature_scaling.transform(X_test)"
      ]
    },
    {
      "cell_type": "code",
      "execution_count": 11,
      "metadata": {
        "id": "Vvlr2f5qXBbx"
      },
      "outputs": [],
      "source": [
        "\n",
        "mms_label = MinMaxScaler()\n",
        "y_train_scaled = mms_label.fit_transform(y_train.values.reshape(-1,1))\n",
        "y_test_scaled = mms_label.transform(y_test.values.reshape(-1,1))\n"
      ]
    },
    {
      "cell_type": "markdown",
      "metadata": {
        "id": "kRtxag-z8tZq"
      },
      "source": [
        "# Preparing Data for Modeling"
      ]
    },
    {
      "cell_type": "code",
      "execution_count": null,
      "metadata": {
        "colab": {
          "base_uri": "https://localhost:8080/"
        },
        "id": "DNeW-HtKLnee",
        "outputId": "46ccb841-3cfe-4797-b7ff-57716849ae08"
      },
      "outputs": [],
      "source": [
        "X_train_ann, X_valid_ann = X_train_scaled[ :600], X_train_scaled[600: ]\n",
        "y_train_ann, y_valid_ann = y_train_scaled[ :600], y_train_scaled[600: ]\n",
        "X_train_ann.shape, X_valid_ann.shape, y_train_ann.shape, y_valid_ann.shape"
      ]
    },
    {
      "cell_type": "code",
      "execution_count": 13,
      "metadata": {
        "id": "iyRypV1WMC3n"
      },
      "outputs": [],
      "source": [
        "train_dataset = (tf.data\n",
        "                 .Dataset\n",
        "                 .from_tensor_slices((X_train_ann, y_train_ann))\n",
        "                 .batch(32)\n",
        "                 .prefetch(tf.data.AUTOTUNE)\n",
        "                 )\n",
        "\n",
        "valid_dataset = (tf.data\n",
        "                 .Dataset\n",
        "                 .from_tensor_slices((X_valid_ann, y_valid_ann))\n",
        "                 .batch(32)\n",
        "                 .prefetch(tf.data.AUTOTUNE)\n",
        "                 )"
      ]
    },
    {
      "cell_type": "markdown",
      "metadata": {
        "id": "9xEoXwVAAbEg"
      },
      "source": [
        "# Optuna Optimization"
      ]
    },
    {
      "cell_type": "code",
      "execution_count": 14,
      "metadata": {
        "colab": {
          "base_uri": "https://localhost:8080/"
        },
        "id": "lBAKrasSAcLv",
        "outputId": "95ce57ff-005b-42af-bbb1-587b85164bf5"
      },
      "outputs": [],
      "source": [
        "# Objective Function for Optuna\n",
        "def objective_ann(trial):\n",
        "    # Define hyperparameters\n",
        "    params = {\n",
        "        \"number_of_layers\": trial.suggest_int(\"number_of_layers\", 2, 10, step=1),\n",
        "        \"activation\": trial.suggest_categorical(\"activation\", [\"relu\", \"swish\"]),\n",
        "        \"units\": trial.suggest_int(\"units\", 10, 100, step=10),\n",
        "        \"lr\": trial.suggest_float(\"lr\", 0.0001, 0.01, log=True),\n",
        "        \"huber_delta\": trial.suggest_float(\"huber_delta\", 0.1, 2.0),\n",
        "        \"l1\": trial.suggest_float(\"l1\", 0.0001, 0.001, log=True),\n",
        "        \"l2\": trial.suggest_float(\"l2\", 0.0001, 0.01, log=True),\n",
        "    }\n",
        "\n",
        "    # Build the model\n",
        "    model = tf.keras.Sequential()\n",
        "    model.add(tf.keras.layers.InputLayer(input_shape=(X_train_ann.shape[1],)))\n",
        "    model.add(tf.keras.layers.GaussianNoise(stddev=0.01))\n",
        "    for _ in range(params[\"number_of_layers\"]):\n",
        "        model.add(\n",
        "            tf.keras.layers.Dense(\n",
        "                units=params[\"units\"],\n",
        "                activation=params[\"activation\"],\n",
        "                kernel_initializer=\"he_uniform\",\n",
        "                kernel_regularizer=tf.keras.regularizers.l1_l2(\n",
        "                    l1=params[\"l1\"], l2=params[\"l2\"]\n",
        "                ),\n",
        "            )\n",
        "        )\n",
        "    model.add(tf.keras.layers.Dense(1))\n",
        "\n",
        "    # Compile the model\n",
        "    optimizer = tf.keras.optimizers.Adam(learning_rate=params[\"lr\"])\n",
        "    loss = tf.keras.losses.Huber(delta=params[\"huber_delta\"])\n",
        "    model.compile(loss=loss, optimizer=optimizer, metrics=[\"mse\"])\n",
        "\n",
        "    # Early stopping callback\n",
        "    es = tf.keras.callbacks.EarlyStopping(\n",
        "        monitor=\"val_mse\",\n",
        "        patience=50,\n",
        "        verbose=1,\n",
        "        restore_best_weights=True,\n",
        "    )\n",
        "\n",
        "    # Train the model\n",
        "    history = model.fit(\n",
        "        train_dataset,\n",
        "        validation_data=valid_dataset,\n",
        "        epochs=1000,\n",
        "        callbacks=[es],\n",
        "        verbose=0,\n",
        "    )\n",
        "\n",
        "    # Evaluate the model\n",
        "    val_mse = history.history[\"val_mse\"][-1]\n",
        "    return val_mse\n"
      ]
    },
    {
      "cell_type": "code",
      "execution_count": null,
      "metadata": {
        "id": "VvNYXH-CAcL6"
      },
      "outputs": [],
      "source": [
        "# Optuna Study\n",
        "study_ann = optuna.create_study(\n",
        "    direction=\"minimize\",\n",
        "    sampler=optuna.samplers.TPESampler(seed=42),\n",
        "    pruner=optuna.pruners.HyperbandPruner(),\n",
        ")\n",
        "\n",
        "study_ann.optimize(objective_ann, n_trials=50)"
      ]
    },
    {
      "cell_type": "markdown",
      "metadata": {
        "id": "2PkeRx_I9Bsm"
      },
      "source": [
        "# Fitting the Model with Best HPs"
      ]
    },
    {
      "cell_type": "code",
      "execution_count": 17,
      "metadata": {},
      "outputs": [],
      "source": [
        "best_hps = study_ann.best_params"
      ]
    },
    {
      "cell_type": "code",
      "execution_count": null,
      "metadata": {},
      "outputs": [],
      "source": [
        "best_hps"
      ]
    },
    {
      "cell_type": "code",
      "execution_count": 15,
      "metadata": {},
      "outputs": [],
      "source": [
        "best_hps = {'number_of_layers': 4,\n",
        "            'activation': 'relu',\n",
        "            'units': 30,\n",
        "            'lr': 0.0008911042438126581,\n",
        "            'huber_delta': 0.8104462665441812,\n",
        "            'l1': 0.00011362602193572822,\n",
        "            'l2': 0.0001468622055305611}"
      ]
    },
    {
      "cell_type": "code",
      "execution_count": 16,
      "metadata": {},
      "outputs": [],
      "source": [
        "# Final Model Using Best Hyperparameters\n",
        "\n",
        "model = tf.keras.Sequential()\n",
        "model.add(tf.keras.layers.InputLayer(input_shape=(X_train_ann.shape[1],)))\n",
        "model.add(tf.keras.layers.GaussianNoise(stddev=0.01))\n",
        "for _ in range(best_hps[\"number_of_layers\"]):\n",
        "    model.add(\n",
        "        tf.keras.layers.Dense(\n",
        "            units=best_hps[\"units\"],\n",
        "            activation=best_hps[\"activation\"],\n",
        "            kernel_initializer=\"he_uniform\",\n",
        "            kernel_regularizer=tf.keras.regularizers.l1_l2(\n",
        "                l1=best_hps[\"l1\"], l2=best_hps[\"l2\"]\n",
        "            ),\n",
        "        )\n",
        "    )\n",
        "model.add(tf.keras.layers.Dense(1))\n",
        "\n",
        "# Compile the model\n",
        "optimizer = tf.keras.optimizers.AdamW(learning_rate=best_hps[\"lr\"])\n",
        "loss = tf.keras.losses.Huber(delta=best_hps[\"huber_delta\"])\n",
        "model.compile(loss=loss, optimizer=optimizer, metrics=[\"mae\", \"mse\"])\n",
        "\n",
        "# Callbacks\n",
        "es = tf.keras.callbacks.EarlyStopping(\n",
        "    monitor=\"mse\",\n",
        "    patience=100,\n",
        "    verbose=1,\n",
        "    restore_best_weights=True,\n",
        ")\n",
        "\n",
        "lr_schedule = tf.keras.callbacks.ReduceLROnPlateau(\n",
        "    monitor=\"mse\",\n",
        "    patience=20,\n",
        "    verbose=1,\n",
        "    factor=0.5,\n",
        ")\n"
      ]
    },
    {
      "cell_type": "code",
      "execution_count": null,
      "metadata": {
        "colab": {
          "base_uri": "https://localhost:8080/"
        },
        "id": "7xJ93xLRX26n",
        "outputId": "4da8c11c-a23e-4e84-e737-355c3c891045"
      },
      "outputs": [],
      "source": [
        "# Train the final model\n",
        "history = model.fit(\n",
        "    train_dataset,\n",
        "    validation_data=valid_dataset,\n",
        "    epochs=1000,\n",
        "    callbacks=[es, lr_schedule],\n",
        "    verbose=1,\n",
        ")\n"
      ]
    },
    {
      "cell_type": "markdown",
      "metadata": {},
      "source": [
        "# Model Evaluation"
      ]
    },
    {
      "cell_type": "code",
      "execution_count": null,
      "metadata": {},
      "outputs": [],
      "source": [
        "test_pred_scaled = model.predict(X_test_scaled)\n",
        "r2_score(y_test_scaled, test_pred_scaled)"
      ]
    },
    {
      "cell_type": "code",
      "execution_count": null,
      "metadata": {},
      "outputs": [],
      "source": [
        "train_pred_scaled = model.predict(X_train_scaled)\n",
        "r2_score(y_train_scaled, train_pred_scaled)"
      ]
    },
    {
      "cell_type": "code",
      "execution_count": null,
      "metadata": {},
      "outputs": [],
      "source": [
        "r2_test_scaled = r2_score(y_test_scaled, test_pred_scaled)\n",
        "r2_train_scaled = r2_score(y_train_scaled, train_pred_scaled)\n",
        "\n",
        "\n",
        "mae_test_scaled = mean_absolute_error(y_test_scaled, test_pred_scaled)\n",
        "mae_train_scaled = mean_absolute_error(y_train_scaled, train_pred_scaled)\n",
        "\n",
        "mse_test_scaled = mean_squared_error(y_test_scaled, test_pred_scaled)\n",
        "mse_train_scaled = mean_squared_error(y_train_scaled, train_pred_scaled)\n",
        "\n",
        "rmse_test_scaled = mean_squared_error(y_test_scaled, test_pred_scaled) ** 0.5\n",
        "rmse_train_scaled = mean_squared_error(y_train_scaled, train_pred_scaled) ** 0.5\n",
        "\n",
        "mape_test_scaled = mean_absolute_percentage_error(y_test_scaled, test_pred_scaled)\n",
        "mape_train_scaled = mean_absolute_percentage_error(y_train_scaled, train_pred_scaled)\n",
        "\n",
        "results = pd.DataFrame()\n",
        "results.loc[\"train\", \"r2\"] = r2_train_scaled\n",
        "results.loc[\"train\", \"mae\"] = mae_train_scaled\n",
        "results.loc[\"train\", \"mse\"] = mse_train_scaled\n",
        "results.loc[\"train\", \"rmse\"] = rmse_train_scaled\n",
        "results.loc[\"train\", \"mape\"] = mape_train_scaled\n",
        "\n",
        "\n",
        "\n",
        "results.loc[\"test\", \"r2\"] = r2_test_scaled\n",
        "results.loc[\"test\", \"mae\"] = mae_test_scaled\n",
        "results.loc[\"test\", \"mse\"] = mse_test_scaled\n",
        "results.loc[\"test\", \"rmse\"] = rmse_test_scaled\n",
        "results.loc[\"test\", \"mape\"] = mape_test_scaled\n",
        "\n",
        "\n",
        "results.round(3).to_csv(\"model_performance_scaled\")\n",
        "results.round(3)"
      ]
    },
    {
      "cell_type": "code",
      "execution_count": null,
      "metadata": {},
      "outputs": [],
      "source": [
        "PredictionErrorDisplay.from_predictions(\n",
        "    y_train_scaled,\n",
        "    train_pred_scaled.squeeze(),\n",
        "    kind=\"actual_vs_predicted\",\n",
        "    # scatter_kwargs={\"color\": colors[\"blue\"], \"alpha\": 0.8, \"label\": f\"R-Squared: {r2_train_scaled.round(3)}\"},\n",
        "    scatter_kwargs={\"color\": colors[\"blue\"], \"alpha\": 0.8, \"label\": f\"R-Squared: {r2_train_scaled}\"},\n",
        "    line_kwargs={\"alpha\": 1},\n",
        "\n",
        ")\n",
        "plt.legend()\n",
        "plt.savefig(\"Scaled Test Evaluation.svg\")"
      ]
    },
    {
      "cell_type": "code",
      "execution_count": null,
      "metadata": {},
      "outputs": [],
      "source": [
        "PredictionErrorDisplay.from_predictions(\n",
        "    y_test_scaled,\n",
        "    test_pred_scaled.squeeze(),\n",
        "    kind=\"actual_vs_predicted\",\n",
        "    # scatter_kwargs={\"color\": colors[\"blue\"], \"alpha\": 0.8, \"label\": f\"R-Squared: {r2_test_scaled.round(3)}\"},\n",
        "    scatter_kwargs={\"color\": colors[\"blue\"], \"alpha\": 0.8, \"label\": f\"R-Squared: {r2_test_scaled}\"},\n",
        "    line_kwargs={ \"alpha\": 1},\n",
        "\n",
        ")\n",
        "plt.legend()\n",
        "plt.savefig(\"Scaled Test Evaluation.svg\")"
      ]
    },
    {
      "cell_type": "code",
      "execution_count": null,
      "metadata": {},
      "outputs": [],
      "source": [
        "history_df = pd.DataFrame(history.history)\n",
        "print(history_df.columns)"
      ]
    },
    {
      "cell_type": "code",
      "execution_count": null,
      "metadata": {
        "colab": {
          "base_uri": "https://localhost:8080/",
          "height": 248
        },
        "id": "IrgiG7Duadzt",
        "outputId": "a47e97d0-092f-4294-e6ce-64fa99a34fcf"
      },
      "outputs": [],
      "source": [
        "pd.DataFrame(history.history).learning_rate.plot()\n",
        "plt.yscale(\"log\")\n",
        "plt.ylabel(\"learning_rate\")\n",
        "plt.xlabel(\"Epoch\")\n",
        "plt.savefig(\"learning_rate_decaying_process.svg\")"
      ]
    },
    {
      "cell_type": "code",
      "execution_count": null,
      "metadata": {
        "colab": {
          "base_uri": "https://localhost:8080/",
          "height": 248
        },
        "id": "m3z0E4sqBcyZ",
        "outputId": "65db668f-1c8a-460c-8f47-5d3effbb06aa"
      },
      "outputs": [],
      "source": [
        "pd.DataFrame(history.history).mse.plot()\n",
        "plt.yscale(\"linear\")\n",
        "plt.ylabel(\"Mean Squared Error\")\n",
        "plt.xlabel(\"Epoch\")\n",
        "plt.savefig(\"training_process.svg\")"
      ]
    },
    {
      "cell_type": "code",
      "execution_count": null,
      "metadata": {},
      "outputs": [],
      "source": [
        "# To revert back to the original data\n",
        "\n",
        "train_pred_scaled_1 = model.predict(X_train_scaled)\n",
        "\n",
        "train_pred_org_1 = mms_label.inverse_transform(train_pred_scaled_1)\n",
        "r2_train_org = r2_score(y_train, train_pred_org_1)\n",
        "\n",
        "print(r2_train_org)\n",
        "\n",
        "\n",
        "\n",
        "test_pred_scaled_1 = model.predict(X_test_scaled)\n",
        "\n",
        "test_pred_org_1 = mms_label.inverse_transform(test_pred_scaled_1)\n",
        "r2_test_org = r2_score(y_test, test_pred_org_1)\n",
        "\n",
        "print(r2_test_org)"
      ]
    },
    {
      "cell_type": "code",
      "execution_count": null,
      "metadata": {
        "colab": {
          "base_uri": "https://localhost:8080/",
          "height": 120
        },
        "id": "LssXz0PCA0on",
        "outputId": "8b907648-e726-4e7b-9d4b-58a30ad205bf"
      },
      "outputs": [],
      "source": [
        "r2_test_org = r2_score(y_test, test_pred_org_1)\n",
        "r2_train_org = r2_score(y_train, train_pred_org_1)\n",
        "\n",
        "\n",
        "mae_test_org = mean_absolute_error(y_test, test_pred_org_1)\n",
        "mae_train_org = mean_absolute_error(y_train, train_pred_org_1)\n",
        "\n",
        "mse_test_org = mean_squared_error(y_test, test_pred_org_1)\n",
        "mse_train_org = mean_squared_error(y_train, train_pred_org_1)\n",
        "\n",
        "rmse_test_org = mean_squared_error(y_test, test_pred_org_1) ** 0.5\n",
        "rmse_train_org = mean_squared_error(y_train, train_pred_org_1) ** 0.5\n",
        "\n",
        "mape_test_org = mean_absolute_percentage_error(y_test, test_pred_org_1)\n",
        "mape_train_org = mean_absolute_percentage_error(y_train, train_pred_org_1)\n",
        "\n",
        "results = pd.DataFrame()\n",
        "results.loc[\"train\", \"r2\"] = r2_train_org\n",
        "results.loc[\"train\", \"mae\"] = mae_train_org\n",
        "results.loc[\"train\", \"mse\"] = mse_train_org\n",
        "results.loc[\"train\", \"rmse\"] = rmse_train_org\n",
        "results.loc[\"train\", \"mape\"] = mape_train_org\n",
        "\n",
        "\n",
        "\n",
        "results.loc[\"test\", \"r2\"] = r2_test_org\n",
        "results.loc[\"test\", \"mae\"] = mae_test_org\n",
        "results.loc[\"test\", \"mse\"] = mse_test_org\n",
        "results.loc[\"test\", \"rmse\"] = rmse_test_org\n",
        "results.loc[\"test\", \"mape\"] = mape_test_org\n",
        "\n",
        "\n",
        "results.round(3).to_csv(\"model_performance\")\n",
        "results.round(3)"
      ]
    },
    {
      "cell_type": "code",
      "execution_count": 28,
      "metadata": {},
      "outputs": [],
      "source": [
        "plt.style.use(['science', 'nature', 'high-contrast', \"no-latex\"])\n"
      ]
    },
    {
      "cell_type": "code",
      "execution_count": null,
      "metadata": {},
      "outputs": [],
      "source": [
        "\n",
        "# Evaluation for Train Dataset\n",
        "PredictionErrorDisplay.from_predictions(\n",
        "    y_train,\n",
        "    train_pred_org_1.squeeze(),\n",
        "    kind=\"actual_vs_predicted\",\n",
        "    scatter_kwargs={\"color\": colors[\"blue\"], \"alpha\": 0.8, \"label\": f\"Train MAE: {int(mae_train_org)}\"},  \n",
        "    line_kwargs={\"alpha\": 1},\n",
        ")\n",
        "plt.xlabel(\"Predicted Total Biogas Flowrate (m3/d)\")  \n",
        "plt.ylabel(\"Actual Total Biogas Flowrate (m3/d)\")    \n",
        "plt.legend()\n",
        "plt.savefig(\"Real Train Evaluation.svg\")\n",
        "\n",
        "# Evaluation for Test Dataset\n",
        "PredictionErrorDisplay.from_predictions(\n",
        "    y_test,\n",
        "    test_pred_org_1.squeeze(),\n",
        "    kind=\"actual_vs_predicted\",\n",
        "    scatter_kwargs={\"color\": colors[\"blue\"], \"alpha\": 0.8, \"label\": f\"Test MAE: {int(mae_test_org)}\"}, \n",
        "    line_kwargs={\"alpha\": 1},\n",
        ")\n",
        "plt.xlabel(\"Predicted Total Biogas Flowrate (m3/d)\")  \n",
        "plt.ylabel(\"Actual Total Biogas Flowrate (m3/d)\")    \n",
        "plt.legend()\n",
        "plt.savefig(\"Real Test Evaluation.svg\")"
      ]
    },
    {
      "cell_type": "code",
      "execution_count": null,
      "metadata": {
        "colab": {
          "base_uri": "https://localhost:8080/",
          "height": 249
        },
        "id": "zmWDKjjpDSoE",
        "outputId": "3fcfc09e-06ef-4448-c54b-583024e3aafe"
      },
      "outputs": [],
      "source": [
        "PredictionErrorDisplay.from_predictions(\n",
        "    y_train,\n",
        "    train_pred_org_1.squeeze(),\n",
        "    kind=\"actual_vs_predicted\",\n",
        "    # scatter_kwargs={\"color\": colors[\"blue\"], \"alpha\": 0.8, \"label\": f\"R-Squared: {r2_train_org.round(3)}\"},\n",
        "    scatter_kwargs={\"color\": colors[\"blue\"], \"alpha\": 0.8, \"label\": f\"R-Squared: {r2_train_org}\"},\n",
        "    line_kwargs={\"alpha\": 1},\n",
        ")\n",
        "plt.legend()\n",
        "plt.savefig(\"Real Train Evaluation.svg\")"
      ]
    },
    {
      "cell_type": "code",
      "execution_count": null,
      "metadata": {
        "colab": {
          "base_uri": "https://localhost:8080/",
          "height": 248
        },
        "id": "bmn5oSbbCq4w",
        "outputId": "3adafa4c-ca1c-4fdb-8793-eb30c6b12f8b"
      },
      "outputs": [],
      "source": [
        "PredictionErrorDisplay.from_predictions(\n",
        "    y_test,\n",
        "    test_pred_org_1.squeeze(),\n",
        "    kind=\"actual_vs_predicted\",\n",
        "    # scatter_kwargs={\"color\": colors[\"blue\"], \"alpha\": 0.8, \"label\": f\"R-Squared: {r2_test_org.round(3)}\"},\n",
        "    scatter_kwargs={\"color\": colors[\"blue\"], \"alpha\": 0.8, \"label\": f\"R-Squared: {r2_test_org}\"},\n",
        "    line_kwargs={\"alpha\": 1},\n",
        "\n",
        ")\n",
        "plt.legend()\n",
        "plt.savefig(\"Real Test Evaluation.svg\")"
      ]
    }
  ],
  "metadata": {
    "colab": {
      "gpuType": "T4",
      "provenance": []
    },
    "kernelspec": {
      "display_name": "Python 3",
      "name": "python3"
    },
    "language_info": {
      "codemirror_mode": {
        "name": "ipython",
        "version": 3
      },
      "file_extension": ".py",
      "mimetype": "text/x-python",
      "name": "python",
      "nbconvert_exporter": "python",
      "pygments_lexer": "ipython3",
      "version": "3.11.9"
    }
  },
  "nbformat": 4,
  "nbformat_minor": 0
}
